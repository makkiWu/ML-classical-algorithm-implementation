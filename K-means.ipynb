{
 "cells": [
  {
   "cell_type": "code",
   "execution_count": 20,
   "id": "7a7510b2",
   "metadata": {},
   "outputs": [],
   "source": [
    "# Required libraries\n",
    "import numpy as np\n",
    "import matplotlib.pyplot as plt"
   ]
  },
  {
   "cell_type": "markdown",
   "id": "764fcaff",
   "metadata": {},
   "source": [
    "1. np.random.normal：这是NumPy库中的一个函数，用于从正态分布中生成随机数。\n",
    "2. 0：第一个参数指定了分布的均值（平均值）。在这里，它被设置为0，意味着生成的分布以0为中心。\n",
    "3. 1：第二个参数指定了分布的标准差。标准差为1，它决定了分布的扩散或宽度。\n",
    "4. (100, 2)：第三个参数指定了输出数组的形状。在这里，它是一个元组(100, 2)，这意味着您将生成100个样本，每个样本有2个值，结果是一个具有100行和2列的二维数组。\n",
    "- 因此，data1 将是一个NumPy数组，形状为(100, 2)，其中包含从均值为0、标准差为1的正态分布中抽取的随机数。数组的每一行代表从这个分布中抽取的一对随机数。"
   ]
  },
  {
   "cell_type": "code",
   "execution_count": 21,
   "id": "61c80934",
   "metadata": {},
   "outputs": [
    {
     "name": "stdout",
     "output_type": "stream",
     "text": [
      "[[ 1.76405235  0.40015721]\n",
      " [ 0.97873798  2.2408932 ]\n",
      " [ 1.86755799 -0.97727788]\n",
      " [ 0.95008842 -0.15135721]\n",
      " [-0.10321885  0.4105985 ]\n",
      " [ 0.14404357  1.45427351]\n",
      " [ 0.76103773  0.12167502]\n",
      " [ 0.44386323  0.33367433]\n",
      " [ 1.49407907 -0.20515826]\n",
      " [ 0.3130677  -0.85409574]\n",
      " [-2.55298982  0.6536186 ]\n",
      " [ 0.8644362  -0.74216502]\n",
      " [ 2.26975462 -1.45436567]\n",
      " [ 0.04575852 -0.18718385]\n",
      " [ 1.53277921  1.46935877]\n",
      " [ 0.15494743  0.37816252]\n",
      " [-0.88778575 -1.98079647]\n",
      " [-0.34791215  0.15634897]\n",
      " [ 1.23029068  1.20237985]\n",
      " [-0.38732682 -0.30230275]\n",
      " [-1.04855297 -1.42001794]\n",
      " [-1.70627019  1.9507754 ]\n",
      " [-0.50965218 -0.4380743 ]\n",
      " [-1.25279536  0.77749036]\n",
      " [-1.61389785 -0.21274028]\n",
      " [-0.89546656  0.3869025 ]\n",
      " [-0.51080514 -1.18063218]\n",
      " [-0.02818223  0.42833187]\n",
      " [ 0.06651722  0.3024719 ]\n",
      " [-0.63432209 -0.36274117]\n",
      " [-0.67246045 -0.35955316]\n",
      " [-0.81314628 -1.7262826 ]\n",
      " [ 0.17742614 -0.40178094]\n",
      " [-1.63019835  0.46278226]\n",
      " [-0.90729836  0.0519454 ]\n",
      " [ 0.72909056  0.12898291]\n",
      " [ 1.13940068 -1.23482582]\n",
      " [ 0.40234164 -0.68481009]\n",
      " [-0.87079715 -0.57884966]\n",
      " [-0.31155253  0.05616534]\n",
      " [-1.16514984  0.90082649]\n",
      " [ 0.46566244 -1.53624369]\n",
      " [ 1.48825219  1.89588918]\n",
      " [ 1.17877957 -0.17992484]\n",
      " [-1.07075262  1.05445173]\n",
      " [-0.40317695  1.22244507]\n",
      " [ 0.20827498  0.97663904]\n",
      " [ 0.3563664   0.70657317]\n",
      " [ 0.01050002  1.78587049]\n",
      " [ 0.12691209  0.40198936]\n",
      " [ 1.8831507  -1.34775906]\n",
      " [-1.270485    0.96939671]\n",
      " [-1.17312341  1.94362119]\n",
      " [-0.41361898 -0.74745481]\n",
      " [ 1.92294203  1.48051479]\n",
      " [ 1.86755896  0.90604466]\n",
      " [-0.86122569  1.91006495]\n",
      " [-0.26800337  0.8024564 ]\n",
      " [ 0.94725197 -0.15501009]\n",
      " [ 0.61407937  0.92220667]\n",
      " [ 0.37642553 -1.09940079]\n",
      " [ 0.29823817  1.3263859 ]\n",
      " [-0.69456786 -0.14963454]\n",
      " [-0.43515355  1.84926373]\n",
      " [ 0.67229476  0.40746184]\n",
      " [-0.76991607  0.53924919]\n",
      " [-0.67433266  0.03183056]\n",
      " [-0.63584608  0.67643329]\n",
      " [ 0.57659082 -0.20829876]\n",
      " [ 0.39600671 -1.09306151]\n",
      " [-1.49125759  0.4393917 ]\n",
      " [ 0.1666735   0.63503144]\n",
      " [ 2.38314477  0.94447949]\n",
      " [-0.91282223  1.11701629]\n",
      " [-1.31590741 -0.4615846 ]\n",
      " [-0.06824161  1.71334272]\n",
      " [-0.74475482 -0.82643854]\n",
      " [-0.09845252 -0.66347829]\n",
      " [ 1.12663592 -1.07993151]\n",
      " [-1.14746865 -0.43782004]\n",
      " [-0.49803245  1.92953205]\n",
      " [ 0.94942081  0.08755124]\n",
      " [-1.22543552  0.84436298]\n",
      " [-1.00021535 -1.5447711 ]\n",
      " [ 1.18802979  0.31694261]\n",
      " [ 0.92085882  0.31872765]\n",
      " [ 0.85683061 -0.65102559]\n",
      " [-1.03424284  0.68159452]\n",
      " [-0.80340966 -0.68954978]\n",
      " [-0.4555325   0.01747916]\n",
      " [-0.35399391 -1.37495129]\n",
      " [-0.6436184  -2.22340315]\n",
      " [ 0.62523145 -1.60205766]\n",
      " [-1.10438334  0.05216508]\n",
      " [-0.739563    1.5430146 ]\n",
      " [-1.29285691  0.26705087]\n",
      " [-0.03928282 -1.1680935 ]\n",
      " [ 0.52327666 -0.17154633]\n",
      " [ 0.77179055  0.82350415]\n",
      " [ 2.16323595  1.33652795]\n",
      " [ 4.63081816  4.76062082]\n",
      " [ 6.0996596   5.65526373]\n",
      " [ 5.64013153  3.38304396]\n",
      " [ 4.97567388  4.26196909]\n",
      " [ 5.2799246   4.90184961]\n",
      " [ 5.91017891  5.31721822]\n",
      " [ 5.78632796  4.5335809 ]\n",
      " [ 4.05555374  4.58995031]\n",
      " [ 4.98297959  5.37915174]\n",
      " [ 7.25930895  4.95774285]\n",
      " [ 4.044055    4.65401822]\n",
      " [ 4.53640403  5.48148147]\n",
      " [ 3.45920299  5.06326199]\n",
      " [ 5.15650654  5.23218104]\n",
      " [ 4.40268393  4.76207827]\n",
      " [ 3.57593909  4.50668012]\n",
      " [ 4.45713852  5.41605005]\n",
      " [ 3.84381757  5.7811981 ]\n",
      " [ 6.49448454  2.93001497]\n",
      " [ 5.42625873  5.67690804]\n",
      " [ 4.36256297  4.60272819]\n",
      " [ 4.86711942  4.70220912]\n",
      " [ 4.69098703  3.32399619]\n",
      " [ 6.15233156  6.07961859]\n",
      " [ 4.18663574  3.53357567]\n",
      " [ 5.52106488  4.42421203]\n",
      " [ 5.14195316  4.68067158]\n",
      " [ 5.69153875  5.69474914]\n",
      " [ 4.27440262  3.61663604]\n",
      " [ 3.4170616   5.61037938]\n",
      " [ 3.81114074  4.49318365]\n",
      " [ 4.40368596  4.9474327 ]\n",
      " [ 3.06372019  5.1887786 ]\n",
      " [ 5.52389102  5.08842209]\n",
      " [ 4.68911383  5.09740017]\n",
      " [ 5.39904635  2.22740724]\n",
      " [ 6.95591231  5.39009332]\n",
      " [ 4.34759142  4.60904662]\n",
      " [ 5.49374178  4.88389606]\n",
      " [ 2.96931553  7.06449286]\n",
      " [ 4.88945934  6.02017271]\n",
      " [ 4.30795015  6.53637705]\n",
      " [ 5.28634369  5.60884383]\n",
      " [ 3.95474663  6.21114529]\n",
      " [ 5.68981816  6.30184623]\n",
      " [ 4.37191244  4.51897288]\n",
      " [ 7.3039167   3.93998418]\n",
      " [ 4.8640503   6.13689136]\n",
      " [ 5.09772497  5.58295368]\n",
      " [ 4.60055097  5.37005589]\n",
      " [ 3.69347315  6.65813068]\n",
      " [ 4.88183595  4.3198218 ]\n",
      " [ 5.66638308  4.53928021]\n",
      " [ 3.66574153  3.65328249]\n",
      " [ 5.69377315  4.84042656]\n",
      " [ 4.86629844  6.07774381]\n",
      " [ 3.87317419  4.26932225]\n",
      " [ 4.61512019  5.09435159]\n",
      " [ 4.95782855  4.71311281]\n",
      " [ 4.9383736   4.89269472]\n",
      " [ 4.28039561  4.18700701]\n",
      " [ 5.27451636  4.10908492]\n",
      " [ 3.84264474  4.68770775]\n",
      " [ 4.84233298  7.2567235 ]\n",
      " [ 4.29529972  5.94326072]\n",
      " [ 5.74718833  3.81105504]\n",
      " [ 5.77325298  3.81611936]\n",
      " [ 2.34082776  5.60631952]\n",
      " [ 3.24410942  5.45093446]\n",
      " [ 4.3159891   6.6595508 ]\n",
      " [ 6.0685094   4.5466142 ]\n",
      " [ 4.31216239  3.7859226 ]\n",
      " [ 4.55907737  4.7196445 ]\n",
      " [ 4.63530646  5.15670386]\n",
      " [ 5.5785215   5.34965446]\n",
      " [ 4.23585608  3.56220853]\n",
      " [ 6.36453185  4.31055082]\n",
      " [ 4.3477064   4.47881069]\n",
      " [ 3.15693045  4.522026  ]\n",
      " [ 4.52034419  5.6203583 ]\n",
      " [ 5.69845715  5.00377089]\n",
      " [ 5.93184837  5.33996498]\n",
      " [ 4.98431789  5.16092817]\n",
      " [ 4.80934651  4.60515049]\n",
      " [ 4.73226646  3.87198867]\n",
      " [ 5.28044171  4.00687639]\n",
      " [ 5.84163126  4.75054142]\n",
      " [ 5.04949498  5.49383678]\n",
      " [ 5.64331447  3.42937659]\n",
      " [ 4.79309632  5.88017891]\n",
      " [ 3.30189418  5.38728048]\n",
      " [ 2.74443577  3.97749316]\n",
      " [ 5.03863055  3.3432849 ]\n",
      " [ 4.01448926  3.52816499]\n",
      " [ 6.64813493  5.16422776]\n",
      " [ 5.56729028  4.7773249 ]\n",
      " [ 4.64656825  3.38352581]\n",
      " [ 4.70816264  4.23850779]\n",
      " [ 5.85792392  6.14110187]\n",
      " [ 6.46657872  5.85255194]]\n"
     ]
    }
   ],
   "source": [
    "# Step 1: Generate synthetic data生成样例数据\n",
    "np.random.seed(0)  # For reproducibility\n",
    "data1 = np.random.normal(0, 1, (100, 2))\n",
    "data2 = np.random.normal(5, 1, (100, 2))\n",
    "data = np.vstack([data1, data2])\n",
    "print(data)\n",
    "#显然data1，data2就是目标能分成的两个簇"
   ]
  },
  {
   "cell_type": "code",
   "execution_count": 22,
   "id": "7f044afd",
   "metadata": {},
   "outputs": [
    {
     "data": {
      "text/plain": [
       "'\\n#np.vstack: 这是NumPy库的一个函数，用于垂直堆叠数组，也就是将一个数组按行堆叠在另一个数组的下面,顺序的堆在下面呢\\n# example of vstack\\ndata1=[[0.2,0.1],[0.3,0.4]]\\ndata2=[[2.1,1.2],[3.3,3.4]]\\ndata = np.vstack([data1, data2])\\nprint(data)\\n'"
      ]
     },
     "execution_count": 22,
     "metadata": {},
     "output_type": "execute_result"
    }
   ],
   "source": [
    "'''\n",
    "#np.vstack: 这是NumPy库的一个函数，用于垂直堆叠数组，也就是将一个数组按行堆叠在另一个数组的下面,顺序的堆在下面呢\n",
    "# example of vstack\n",
    "data1=[[0.2,0.1],[0.3,0.4]]\n",
    "data2=[[2.1,1.2],[3.3,3.4]]\n",
    "data = np.vstack([data1, data2])\n",
    "print(data)\n",
    "'''"
   ]
  },
  {
   "cell_type": "code",
   "execution_count": 23,
   "id": "a5f64fa0",
   "metadata": {},
   "outputs": [],
   "source": [
    "# Step 2: Define the K-means algorithm functions\n",
    "# Initialize centroids randomly from data points\n",
    "'''\n",
    "1、data.shape[0]：这部分获取了数组 data 的行数，也就是数据集中的数据点数量。\n",
    "\n",
    "2、np.random.choice(data.shape[0], k, replace=False)：这是 NumPy 的函数 random.choice 的使用，它用于从指定的一维数组中随机抽取元素。在这里，它的参数解释如下：\n",
    "\n",
    "data.shape[0]：表示要从中进行抽样的一维数组，即数据集 data 的行数。\n",
    "k：表示要抽取的样本数量，通常用于指定您希望随机选择多少个数据点。\n",
    "replace=False：这个参数表示抽样时是否允许重复选择相同的元素。在这里，由于设置为 False，所以不允许重复选择，每个数据点最多被选取一次。\n",
    "'''\n",
    "def initialize_centroids(data, k):#选取初始簇心\n",
    "    return data[np.random.choice(data.shape[0], k, replace=False)]\n",
    "\n",
    "# Assign each data point to the nearest centroid\n",
    "def assign_labels(data, centroids):#点分配到簇\n",
    "    distances = np.sqrt(((data - centroids[:, np.newaxis])**2).sum(axis=2))#点到质心的欧式距离\n",
    "    return np.argmin(distances, axis=0)"
   ]
  },
  {
   "cell_type": "code",
   "execution_count": 24,
   "id": "c1d3787f",
   "metadata": {},
   "outputs": [
    {
     "data": {
      "text/plain": [
       "'\\n#example of assign_labels\\nimport numpy as np\\n# 三个数据点\\ndata = np.array([[1.0, 2.0], [2.0, 3.0], [5.0, 6.0]])\\n# 两个聚类中心\\ncentroids = np.array([[1.0, 2.0], [4.0, 5.0]])\\n# 计算距离矩阵\\ndistances = np.sqrt(((data - centroids[:, np.newaxis])**2).sum(axis=2))\\n# 输出距离矩阵\\nprint(distances)\\n#分配每个数据点到最近的聚类中心。这将返回一个包含索引的一维数组，其中每个索引表示对应数据点应该分配给哪个聚类中心。\\nassignments = np.argmin(distances, axis=0)\\nprint(assignments)\\n'"
      ]
     },
     "execution_count": 24,
     "metadata": {},
     "output_type": "execute_result"
    }
   ],
   "source": [
    "'''\n",
    "#example of assign_labels\n",
    "import numpy as np\n",
    "# 三个数据点\n",
    "data = np.array([[1.0, 2.0], [2.0, 3.0], [5.0, 6.0]])\n",
    "# 两个聚类中心\n",
    "centroids = np.array([[1.0, 2.0], [4.0, 5.0]])\n",
    "# 计算距离矩阵\n",
    "distances = np.sqrt(((data - centroids[:, np.newaxis])**2).sum(axis=2))\n",
    "# 输出距离矩阵\n",
    "print(distances)\n",
    "#分配每个数据点到最近的聚类中心。这将返回一个包含索引的一维数组，其中每个索引表示对应数据点应该分配给哪个聚类中心。\n",
    "assignments = np.argmin(distances, axis=0)\n",
    "print(assignments)\n",
    "'''"
   ]
  },
  {
   "cell_type": "code",
   "execution_count": 25,
   "id": "11c5ed21",
   "metadata": {},
   "outputs": [],
   "source": [
    "# Recompute centroids as the mean of data points of the same cluster\n",
    "def compute_centroids(data, labels, k):#get new centroids\n",
    "    centroids = np.array([data[labels == i].mean(axis=0) for i in range(k)])\n",
    "    return centroids  "
   ]
  },
  {
   "cell_type": "code",
   "execution_count": 26,
   "id": "c1e30435",
   "metadata": {},
   "outputs": [],
   "source": [
    "# K-means clustering\n",
    "def kmeans(data, k, max_iters=100):\n",
    "    centroids = initialize_centroids(data, k)\n",
    "    for i in range(max_iters):\n",
    "        labels = assign_labels(data, centroids)\n",
    "        new_centroids = compute_centroids(data, labels, k)\n",
    "        # If centroids do not change, we are done\n",
    "        if np.all(centroids == new_centroids):\n",
    "            break\n",
    "        centroids = new_centroids\n",
    "    return centroids, labels"
   ]
  },
  {
   "cell_type": "code",
   "execution_count": 28,
   "id": "7d9d7181",
   "metadata": {},
   "outputs": [
    {
     "name": "stdout",
     "output_type": "stream",
     "text": [
      "[1 1 1 1 1 1 1 1 1 1 1 1 1 1 1 1 1 1 1 1 1 1 1 1 1 1 1 1 1 1 1 1 1 1 1 1 1\n",
      " 1 1 1 1 1 1 1 1 1 1 1 1 1 1 1 1 1 1 1 1 1 1 1 1 1 1 1 1 1 1 1 1 1 1 1 1 1\n",
      " 1 1 1 1 1 1 1 1 1 1 1 1 1 1 1 1 1 1 1 1 1 1 1 1 1 1 0 0 0 0 0 0 0 0 0 0 0\n",
      " 0 0 0 0 0 0 0 0 0 0 0 0 0 0 0 0 0 0 0 0 0 0 0 0 0 0 0 0 0 0 0 0 0 0 0 0 0\n",
      " 0 0 0 0 0 0 0 0 0 0 0 0 0 0 0 0 0 0 0 0 0 0 0 0 0 0 0 0 0 0 0 0 0 0 0 0 0\n",
      " 0 0 0 0 0 0 0 0 0 0 0 0 0 0 0]\n"
     ]
    }
   ],
   "source": [
    "# Step 3: Run the K-means algorithm\n",
    "k = 2  # Number of clusters\n",
    "centroids, labels = kmeans(data, k)"
   ]
  },
  {
   "cell_type": "code",
   "execution_count": 29,
   "id": "64f53eb8",
   "metadata": {},
   "outputs": [
    {
     "data": {
      "text/plain": [
       "<function matplotlib.pyplot.show(close=None, block=None)>"
      ]
     },
     "execution_count": 29,
     "metadata": {},
     "output_type": "execute_result"
    },
    {
     "data": {
      "image/png": "[encoded data removed]",
      "text/plain": [
       "<Figure size 640x480 with 1 Axes>"
      ]
     },
     "metadata": {},
     "output_type": "display_data"
    }
   ],
   "source": [
    "# Step 4: Visualize the results\n",
    "'''\n",
    "c=labels：这个参数指定了散点的颜色。labels 是一个包含每个数据点的标签的数组，它将决定每个数据点的颜色。不同的标签通常对应不同的颜色，因此您可以在图中看到数据点之间的差异。\n",
    "cmap='rainbow'：这个参数指定了颜色映射（colormap），它决定了如何将标签映射到颜色。在这里，'rainbow' 是一种常用的颜色映射，它会根据标签值从颜色范围中选择不同的颜色。不同的标签将对应不同的颜色。\n",
    "marker='.'：这个参数指定了散点的形状。在这里，散点的形状被设置为小圆点（点号）。您可以根据需要选择不同的形状，例如，'o' 表示圆圈，'s' 表示正方形，等等。\n",
    "'''\n",
    "plt.scatter(data[:, 0], data[:, 1], c=labels, cmap='rainbow', marker='.')\n",
    "#s=100：这个参数指定了聚类中心的大小，这里设置为 100，表示聚类中心的大小是默认大小的 100 倍。\n",
    "plt.scatter(centroids[:, 0], centroids[:, 1], c='black', marker='x', s=100)\n",
    "plt.title(\"K-means Clustering\")\n",
    "plt.show"
   ]
  },
  {
   "cell_type": "code",
   "execution_count": null,
   "id": "45dd7472",
   "metadata": {},
   "outputs": [],
   "source": []
  }
 ],
 "metadata": {
  "kernelspec": {
   "display_name": "Python 3 (ipykernel)",
   "language": "python",
   "name": "python3"
  },
  "language_info": {
   "codemirror_mode": {
    "name": "ipython",
    "version": 3
   },
   "file_extension": ".py",
   "mimetype": "text/x-python",
   "name": "python",
   "nbconvert_exporter": "python",
   "pygments_lexer": "ipython3",
   "version": "3.11.4"
  }
 },
 "nbformat": 4,
 "nbformat_minor": 5
}
